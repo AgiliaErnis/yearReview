{
 "cells": [
  {
   "cell_type": "markdown",
   "metadata": {},
   "source": [
    "# Parser of HTML GoodReads"
   ]
  },
  {
   "cell_type": "code",
   "execution_count": 95,
   "metadata": {
    "collapsed": true
   },
   "outputs": [],
   "source": [
    "#!/usr/bin/env python\n",
    "# -*- coding: utf-8 -*-\n",
    "import re"
   ]
  },
  {
   "cell_type": "code",
   "execution_count": 100,
   "metadata": {},
   "outputs": [
    {
     "data": {
      "text/plain": [
       "59"
      ]
     },
     "execution_count": 100,
     "metadata": {},
     "output_type": "execute_result"
    }
   ],
   "source": [
    "books = ['title;author;rating;avg_rating;started;finished']\n",
    "data = []\n",
    "with open('../data/goodreads.html') as file_in:\n",
    "    data = file_in.read()\n",
    "    titles = re.findall('(?<=<a title=\").*(?=\" )', data)\n",
    "    authors = re.findall('(?<=www.goodreads.com\\/author\\/show\\/).*(?=<\\/a>)',data)\n",
    "    ratings = re.findall('(?<=data-rating=\")[0-9]', data)\n",
    "    avg_ratings = re.findall('(?<=avg rating<\\/label><div class=\"value\">    ).*',data)\n",
    "    started = re.findall('(?<=<span class=\"date_started_value\">).*(?=<)',data)\n",
    "    finished = re.findall('(?<=<span class=\"date_read_value\">).*(?=<)',data)\n",
    "    tags = re.findall('(?<=chosen: ).*(?=})',data)\n",
    "len(authors)"
   ]
  },
  {
   "cell_type": "code",
   "execution_count": 101,
   "metadata": {},
   "outputs": [],
   "source": [
    "for i in range(len(authors)):\n",
    "    author = str(re.findall('(?<=\\w\">).*', authors[i])[0])\n",
    "    books.append(titles[i] + \";\"\n",
    "                 + author + \";\"\n",
    "                 + ratings[i] + \";\"\n",
    "                 + avg_ratings[i] + \";\"\n",
    "                 + format_date(started[i]) + \";\"\n",
    "                 + format_date(finished[i]) + \";\"\n",
    "                 + tags[i]\n",
    "                )\n"
   ]
  },
  {
   "cell_type": "code",
   "execution_count": 103,
   "metadata": {},
   "outputs": [],
   "source": [
    "with open('../data/goodreads_clean.csv','w') as file_out:\n",
    "    for item in books:\n",
    "      print>>file_out, item"
   ]
  },
  {
   "cell_type": "code",
   "execution_count": 99,
   "metadata": {},
   "outputs": [],
   "source": [
    "def format_date(date):\n",
    "    months=['Jan','Feb','Mar','Apr','May','Jun','Jul','Aug','Sep','Oct','Nov','Dec']\n",
    "    split_date = date.split(' ')\n",
    "    m_name = split_date[0]\n",
    "    y = split_date[-1]\n",
    "    d = split_date[1][:-1]\n",
    "    if len(split_date) < 3:\n",
    "        d =\"01\"\n",
    "    m = str(months.index(m_name)+1)\n",
    "    return y+\"-\"+m+\"-\"+d"
   ]
  },
  {
   "cell_type": "markdown",
   "metadata": {},
   "source": [
    "# Parser of HTML CSFD"
   ]
  },
  {
   "cell_type": "code",
   "execution_count": 95,
   "metadata": {
    "collapsed": true
   },
   "outputs": [],
   "source": [
    "#!/usr/bin/env python\n",
    "# -*- coding: utf-8 -*-\n",
    "import re"
   ]
  },
  {
   "cell_type": "code",
   "execution_count": 100,
   "metadata": {},
   "outputs": [
    {
     "data": {
      "text/plain": [
       "59"
      ]
     },
     "execution_count": 100,
     "metadata": {},
     "output_type": "execute_result"
    }
   ],
   "source": [
    "books = ['title;author;rating;avg_rating;started;finished']\n",
    "data = []\n",
    "with open('../data/goodreads.html') as file_in:\n",
    "    data = file_in.read()\n",
    "    titles = re.findall('(?<=<a title=\").*(?=\" )', data)\n",
    "    authors = re.findall('(?<=www.goodreads.com\\/author\\/show\\/).*(?=<\\/a>)',data)\n",
    "    ratings = re.findall('(?<=data-rating=\")[0-9]', data)\n",
    "    avg_ratings = re.findall('(?<=avg rating<\\/label><div class=\"value\">    ).*',data)\n",
    "    started = re.findall('(?<=<span class=\"date_started_value\">).*(?=<)',data)\n",
    "    finished = re.findall('(?<=<span class=\"date_read_value\">).*(?=<)',data)\n",
    "    tags = re.findall('(?<=chosen: ).*(?=})',data)\n",
    "len(authors)"
   ]
  },
  {
   "cell_type": "code",
   "execution_count": 101,
   "metadata": {
    "collapsed": true
   },
   "outputs": [],
   "source": [
    "for i in range(len(authors)):\n",
    "    author = str(re.findall('(?<=\\w\">).*', authors[i])[0])\n",
    "    books.append(titles[i] + \";\"\n",
    "                 + author + \";\"\n",
    "                 + ratings[i] + \";\"\n",
    "                 + avg_ratings[i] + \";\"\n",
    "                 + format_date(started[i]) + \";\"\n",
    "                 + format_date(finished[i]) + \";\"\n",
    "                 + tags[i]\n",
    "                )\n"
   ]
  },
  {
   "cell_type": "code",
   "execution_count": 102,
   "metadata": {
    "collapsed": true
   },
   "outputs": [],
   "source": [
    "with open('../data/goodreads_books.csv','w') as file_out:\n",
    "    for item in books:\n",
    "      print>>file_out, item"
   ]
  },
  {
   "cell_type": "markdown",
   "metadata": {},
   "source": [
    "# Parser of HTML Troll"
   ]
  },
  {
   "cell_type": "code",
   "execution_count": 95,
   "metadata": {
    "collapsed": true
   },
   "outputs": [],
   "source": [
    "#!/usr/bin/env python\n",
    "# -*- coding: utf-8 -*-\n",
    "import re"
   ]
  },
  {
   "cell_type": "code",
   "execution_count": 168,
   "metadata": {},
   "outputs": [
    {
     "name": "stdout",
     "output_type": "stream",
     "text": [
      " 21.01.2017\n",
      " 0 hodin 25 minut \n",
      "patchwork-4403/\">Patchwork\n",
      " 2 \n"
     ]
    }
   ],
   "source": [
    "data = []\n",
    "with open('../data/trol.html') as file_in:\n",
    "    date_re = '(?<=<span class=\\\"glyphicon glyphicon-calendar\\\"></span>).*?(?=<\\/p>)'\n",
    "    time_re = '(?<=<span class=\\\"glyphicon glyphicon-time\\\"></span>).*?(?=\\|)'\n",
    "    game_re = '(?<=<p>Hra: <span class=\\\"label label-info\\\"><a href=\\\"http:\\/\\/www.zatrolene-hry.cz\\/spolecenska-hra\\/).*?(?=<\\/a>)'\n",
    "    player_re = '(?<=<span class=\\\"glyphicon glyphicon-user\\\"><\\/span>).*?(?=\\|)'\n",
    "    \n",
    "    data = file_in.read()\n",
    "    \n",
    "    dates = re.findall(date_re, data)\n",
    "    times = re.findall(time_re, data)\n",
    "    games = re.findall(game_re, data)\n",
    "    players = re.findall(player_re, data)"
   ]
  },
  {
   "cell_type": "code",
   "execution_count": 173,
   "metadata": {},
   "outputs": [],
   "source": [
    "outputs = ['date;time;game;player_count']\n",
    "for i in range(len(dates)):\n",
    "    outputs.append(process_date_troll(dates[i]) + \";\"\n",
    "                 + process_time_troll(times[i]) + \";\"\n",
    "                 + process_game_troll(games[i]) + \";\"\n",
    "                 + players[i]\n",
    "                )"
   ]
  },
  {
   "cell_type": "code",
   "execution_count": 156,
   "metadata": {
    "collapsed": true
   },
   "outputs": [],
   "source": [
    "def process_date_troll(date):\n",
    "    split_date = date.split('.')\n",
    "    return split_date[2] + \"-\" + split_date[1] + \"-\" + split_date[0]"
   ]
  },
  {
   "cell_type": "code",
   "execution_count": 172,
   "metadata": {
    "collapsed": true
   },
   "outputs": [],
   "source": [
    "def process_time_troll(time):\n",
    "    split_time = time.split(' ')\n",
    "    hours = split_time[1]\n",
    "    minutes = split_time[3]\n",
    "    return hours * 60 + minutes"
   ]
  },
  {
   "cell_type": "code",
   "execution_count": 166,
   "metadata": {
    "collapsed": true
   },
   "outputs": [],
   "source": [
    "def process_game_troll(game):\n",
    "    return re.findall('(?<=\">).*',game)[0]"
   ]
  },
  {
   "cell_type": "code",
   "execution_count": 174,
   "metadata": {
    "collapsed": true
   },
   "outputs": [],
   "source": [
    "with open('../data/trol_clean.csv','w') as file_out:\n",
    "    for item in outputs:\n",
    "      print>>file_out, item"
   ]
  },
  {
   "cell_type": "markdown",
   "metadata": {},
   "source": [
    "# Parser of HTML Pocket"
   ]
  },
  {
   "cell_type": "code",
   "execution_count": 111,
   "metadata": {
    "collapsed": true
   },
   "outputs": [],
   "source": [
    "#!/usr/bin/env python\n",
    "# -*- coding: utf-8 -*-\n",
    "import re"
   ]
  },
  {
   "cell_type": "code",
   "execution_count": 124,
   "metadata": {},
   "outputs": [],
   "source": [
    "articles = ['url;date;tag']\n",
    "data = []\n",
    "with open('../data/pocket.html') as file_in:\n",
    "    data = file_in.read()\n",
    "    url = re.findall('(?<=href=\").*(?=\" time)', data)\n",
    "    date = re.findall('(?<=time_added=\").*(?=\" )',data)\n",
    "    tag = re.findall('(?<=tags=\").*(?=\")', data)"
   ]
  },
  {
   "cell_type": "code",
   "execution_count": 125,
   "metadata": {},
   "outputs": [],
   "source": [
    "for i in range(len(url)):\n",
    "    articles.append(url[i] + \";\"\n",
    "                 + date[i] + \";\"\n",
    "                 + tag[i]\n",
    "                )\n"
   ]
  },
  {
   "cell_type": "code",
   "execution_count": 126,
   "metadata": {
    "collapsed": true
   },
   "outputs": [],
   "source": [
    "with open('../data/pocket_clean.csv','w') as file_out:\n",
    "    for item in articles:\n",
    "      print>>file_out, item"
   ]
  }
 ],
 "metadata": {
  "kernelspec": {
   "display_name": "Python 2",
   "language": "python",
   "name": "python2"
  },
  "language_info": {
   "codemirror_mode": {
    "name": "ipython",
    "version": 2
   },
   "file_extension": ".py",
   "mimetype": "text/x-python",
   "name": "python",
   "nbconvert_exporter": "python",
   "pygments_lexer": "ipython2",
   "version": "2.7.12"
  }
 },
 "nbformat": 4,
 "nbformat_minor": 2
}
